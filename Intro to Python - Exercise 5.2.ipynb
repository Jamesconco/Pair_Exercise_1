{
 "cells": [
  {
   "cell_type": "markdown",
   "metadata": {},
   "source": [
    "**Exercise 5.2:** Write and test three functions that return the largest, the smallest, and the number of dividables by 3 in a given collection of numbers. Use the algorithm described earlier in the Part 5 lecture :)"
   ]
  },
  {
   "cell_type": "code",
   "execution_count": 6,
   "metadata": {
    "scrolled": true
   },
   "outputs": [
    {
     "name": "stdout",
     "output_type": "stream",
     "text": [
      "150\n"
     ]
    }
   ],
   "source": [
    "# Your functions\n",
    "\n",
    "collection = [55, 40, 2, 4, 7, 8, 9, 20, 150, 10]\n",
    "\n",
    "def largest(collection):\n",
    "    max = collection[8]\n",
    "    for i in collection:\n",
    "        if i > max:\n",
    "            max = i\n",
    "    return (max)\n",
    "\n",
    "print(largest(collection))"
   ]
  },
  {
   "cell_type": "code",
   "execution_count": 10,
   "metadata": {},
   "outputs": [
    {
     "name": "stdout",
     "output_type": "stream",
     "text": [
      "2\n"
     ]
    }
   ],
   "source": [
    "def smallest(collection):\n",
    "    min = collection[2]\n",
    "    for j in collection:\n",
    "        if j < min:\n",
    "            min = j\n",
    "    return (min)\n",
    "\n",
    "print(smallest(collection))"
   ]
  },
  {
   "cell_type": "code",
   "execution_count": 11,
   "metadata": {},
   "outputs": [
    {
     "name": "stdout",
     "output_type": "stream",
     "text": [
      "2\n"
     ]
    }
   ],
   "source": [
    "def divisible_by3(collection):\n",
    "    div = 0\n",
    "    for d in collection:\n",
    "        if d % 3 == 0:\n",
    "            div += 1\n",
    "    return (div)\n",
    "\n",
    "print(divisible_by3(collection))"
   ]
  }
 ],
 "metadata": {
  "kernelspec": {
   "display_name": "Python 3",
   "language": "python",
   "name": "python3"
  },
  "language_info": {
   "codemirror_mode": {
    "name": "ipython",
    "version": 3
   },
   "file_extension": ".py",
   "mimetype": "text/x-python",
   "name": "python",
   "nbconvert_exporter": "python",
   "pygments_lexer": "ipython3",
   "version": "3.8.10"
  }
 },
 "nbformat": 4,
 "nbformat_minor": 4
}
